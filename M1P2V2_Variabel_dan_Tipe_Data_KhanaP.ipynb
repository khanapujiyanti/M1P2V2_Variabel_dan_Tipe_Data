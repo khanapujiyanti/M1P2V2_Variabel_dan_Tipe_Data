{
  "nbformat": 4,
  "nbformat_minor": 0,
  "metadata": {
    "colab": {
      "name": "M1P2V2_Variabel_dan_Tipe_Data_KhanaP.ipynb",
      "provenance": [],
      "collapsed_sections": [],
      "authorship_tag": "ABX9TyNZU7m9uyDff9C5l3qWH25W",
      "include_colab_link": true
    },
    "kernelspec": {
      "name": "python3",
      "display_name": "Python 3"
    },
    "language_info": {
      "name": "python"
    }
  },
  "cells": [
    {
      "cell_type": "markdown",
      "metadata": {
        "id": "view-in-github",
        "colab_type": "text"
      },
      "source": [
        "<a href=\"https://colab.research.google.com/github/khanapujiyanti/M1P2V2_Variabel_dan_Tipe_Data/blob/main/M1P2V2_Variabel_dan_Tipe_Data_KhanaP.ipynb\" target=\"_parent\"><img src=\"https://colab.research.google.com/assets/colab-badge.svg\" alt=\"Open In Colab\"/></a>"
      ]
    },
    {
      "cell_type": "markdown",
      "metadata": {
        "id": "2K5LV6IfZYoK"
      },
      "source": [
        "#VAriabel dan Tipe Data"
      ]
    },
    {
      "cell_type": "markdown",
      "metadata": {
        "id": "iKmsXqj8Zgjv"
      },
      "source": [
        "#Variabel"
      ]
    },
    {
      "cell_type": "markdown",
      "metadata": {
        "id": "WKnb1Qu9Zkpi"
      },
      "source": [
        "Variables : Lokasi penyimpanan yang dapat digunakan untuk menampung sebuah data atau informasi.\n",
        "\n",
        "Syarat-syarat penamaan variabel:\n",
        "\n",
        "1. Karakter-karakte yang digunakan untuk penamaan variable adalah alphabet, angka, dan anderscore.\n",
        "\n",
        "2. Karakter pertama variabel harus berupa huruf atau garis bawah, dan tidak bisa berupa angka.\n",
        "3. Nama sebuah variabel tidak bisa menggunaan keyword atau reserved words dari bahasa python seperti for, if dan lainnya.\n",
        "4. Karakter pada nama variabel bersifat sensitif (case-sensitif)."
      ]
    },
    {
      "cell_type": "code",
      "metadata": {
        "colab": {
          "base_uri": "https://localhost:8080/"
        },
        "id": "aV7EKrJ3Y76n",
        "outputId": "5189d8f5-5002-4dde-ee11-e28228305a2f"
      },
      "source": [
        "# Membuat variabel\n",
        "kalimat ='ini adalah variabel'\n",
        "bilangan1 = 4\n",
        "bilangan2 = 2.5\n",
        "bilangan3 = True\n",
        "bilangan4 = 1j + 4\n",
        "\n",
        "#menampilkan variabel\n",
        "print(kalimat)\n",
        "print(bilangan1)\n",
        "print(bilangan2)"
      ],
      "execution_count": null,
      "outputs": [
        {
          "output_type": "stream",
          "name": "stdout",
          "text": [
            "ini adalah variabel\n",
            "4\n",
            "2.5\n"
          ]
        }
      ]
    },
    {
      "cell_type": "markdown",
      "metadata": {
        "id": "DblD0KUEb-Lw"
      },
      "source": [
        "Latihan 1"
      ]
    },
    {
      "cell_type": "code",
      "metadata": {
        "colab": {
          "base_uri": "https://localhost:8080/"
        },
        "id": "4wRc8BhYcBZu",
        "outputId": "5831381a-10bf-44ba-f487-01328650d32a"
      },
      "source": [
        "#buatlah 5 variabel kaluan sendiri dengan 5 macam type data\n",
        "#lalu tampilkan variabel menggunakan fungsi print\n",
        "\n",
        "bil1= 2j +1\n",
        "bil2=False\n",
        "bil3=3.9\n",
        "bil4=13\n",
        "kal='string'\n",
        "\n",
        "print(kal)\n",
        "print(bil1)\n",
        "print(bil2)\n",
        "print(bil3)\n",
        "print(bil4)"
      ],
      "execution_count": null,
      "outputs": [
        {
          "output_type": "stream",
          "name": "stdout",
          "text": [
            "string\n",
            "(1+2j)\n",
            "False\n",
            "3.9\n",
            "13\n"
          ]
        }
      ]
    },
    {
      "cell_type": "markdown",
      "metadata": {
        "id": "mCaghE9Ad17R"
      },
      "source": [
        "#Tipe Data"
      ]
    },
    {
      "cell_type": "markdown",
      "metadata": {
        "id": "1hQsbB_4d3vZ"
      },
      "source": [
        "5 tipe data yaitu:\n",
        "\n",
        "1.integer atau bilangan bulat\n",
        "2. float atau bilangan desimal\n",
        "3. string atau kalimat\n",
        "4. boolean yang terdiri dari True dan False\n",
        "5. complex merupakan bilangan kompleks"
      ]
    },
    {
      "cell_type": "code",
      "metadata": {
        "colab": {
          "base_uri": "https://localhost:8080/"
        },
        "id": "Ik9HFP9wef0S",
        "outputId": "42eb908f-74b4-4905-a3a8-cb379b816cb6"
      },
      "source": [
        "#menampilkan tipe data\n",
        "\n",
        "print(type(kalimat))\n",
        "print(type(bilangan1))\n",
        "print(type(bilangan2))\n",
        "print(type(bilangan3))\n",
        "print(type(bilangan4))"
      ],
      "execution_count": null,
      "outputs": [
        {
          "output_type": "stream",
          "name": "stdout",
          "text": [
            "<class 'str'>\n",
            "<class 'int'>\n",
            "<class 'float'>\n",
            "<class 'bool'>\n",
            "<class 'complex'>\n"
          ]
        }
      ]
    },
    {
      "cell_type": "markdown",
      "metadata": {
        "id": "6Vl3dqWce--m"
      },
      "source": [
        "Latihan 2"
      ]
    },
    {
      "cell_type": "code",
      "metadata": {
        "colab": {
          "base_uri": "https://localhost:8080/"
        },
        "id": "Gv7oC3YZef-5",
        "outputId": "8dfc7952-742e-4c8c-bfe3-a7ad70f1dc1d"
      },
      "source": [
        "#Cek type data variabel yang telah kalian buat pada latihan 1\n",
        "print(type(bil1))\n",
        "print(type(bil2))\n",
        "print(type(bil3))\n",
        "print(type(bil4))\n",
        "print(type(kal))"
      ],
      "execution_count": null,
      "outputs": [
        {
          "output_type": "stream",
          "name": "stdout",
          "text": [
            "<class 'complex'>\n",
            "<class 'bool'>\n",
            "<class 'float'>\n",
            "<class 'int'>\n",
            "<class 'str'>\n"
          ]
        }
      ]
    }
  ]
}